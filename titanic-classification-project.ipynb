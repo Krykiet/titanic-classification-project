{
 "cells": [
  {
   "cell_type": "markdown",
   "id": "5a749bcf",
   "metadata": {},
   "source": [
    "# Titanic-classification-project\n",
    "\n",
    "This is the first Kaggle competition project, answering the question \"what sorts of people were more likely to survive the Titanic sinking?\"\n",
    "\n",
    "## Project plan:\n",
    "\n",
    "1. Exploratory Data Analysis\n",
    "2. Select the model\n",
    "3. Train and tune the model\n",
    "4. Upload predictions and receive accuracy score"
   ]
  },
  {
   "cell_type": "code",
   "execution_count": null,
   "id": "d9d4a846",
   "metadata": {},
   "outputs": [],
   "source": []
  }
 ],
 "metadata": {
  "kernelspec": {
   "display_name": "Python 3 (ipykernel)",
   "language": "python",
   "name": "python3"
  },
  "language_info": {
   "codemirror_mode": {
    "name": "ipython",
    "version": 3
   },
   "file_extension": ".py",
   "mimetype": "text/x-python",
   "name": "python",
   "nbconvert_exporter": "python",
   "pygments_lexer": "ipython3",
   "version": "3.10.4"
  }
 },
 "nbformat": 4,
 "nbformat_minor": 5
}
